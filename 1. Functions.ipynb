{
 "cells": [
  {
   "cell_type": "markdown",
   "metadata": {},
   "source": [
    "#### Functions"
   ]
  },
  {
   "cell_type": "markdown",
   "metadata": {},
   "source": [
    "A function is considered to be a set of instructions which is kept under a single block and is called via a keyword associated with it."
   ]
  },
  {
   "cell_type": "code",
   "execution_count": 1,
   "metadata": {},
   "outputs": [],
   "source": [
    "#Defining a function\n",
    "def user_defined_division():\n",
    "    number1 = int(input('Enter the first number'))\n",
    "    number2 = int(input('Enter the second number'))\n",
    "\n",
    "    if number2 == 0 :\n",
    "         print('Division not possible')\n",
    "    else:\n",
    "        print(number1/number2)"
   ]
  },
  {
   "cell_type": "code",
   "execution_count": 5,
   "metadata": {},
   "outputs": [
    {
     "name": "stdin",
     "output_type": "stream",
     "text": [
      "Enter the first number 50\n",
      "Enter the second number 0\n"
     ]
    },
    {
     "name": "stdout",
     "output_type": "stream",
     "text": [
      "Division not possible\n"
     ]
    }
   ],
   "source": [
    "#calling a function\n",
    "user_defined_division()"
   ]
  },
  {
   "cell_type": "code",
   "execution_count": 10,
   "metadata": {},
   "outputs": [
    {
     "name": "stdin",
     "output_type": "stream",
     "text": [
      "Enter the first number 44\n",
      "Enter the second number 2\n"
     ]
    },
    {
     "name": "stdout",
     "output_type": "stream",
     "text": [
      "22.0\n"
     ]
    }
   ],
   "source": [
    "#calling the function again\n",
    "user_defined_division()"
   ]
  },
  {
   "cell_type": "markdown",
   "metadata": {},
   "source": [
    "Question : Write a function \"my_name_last_letter\" which takes a name as input and returns you the last letter of your name"
   ]
  },
  {
   "cell_type": "code",
   "execution_count": 8,
   "metadata": {},
   "outputs": [],
   "source": [
    "def my_name_last_letter():\n",
    "    name = input('Enter your name')\n",
    "    print('The last letter in your name is \"{}\"'.format(name[-1]))\n"
   ]
  },
  {
   "cell_type": "code",
   "execution_count": 9,
   "metadata": {},
   "outputs": [
    {
     "name": "stdin",
     "output_type": "stream",
     "text": [
      "Enter your name Abhishek\n"
     ]
    },
    {
     "name": "stdout",
     "output_type": "stream",
     "text": [
      "The last letter in your name is \"k\"\n"
     ]
    }
   ],
   "source": [
    "my_name_last_letter()"
   ]
  },
  {
   "cell_type": "markdown",
   "metadata": {},
   "source": [
    "Exercise :\n",
    "\n",
    "    Design a function which can take a number and print the square and cube of that number"
   ]
  },
  {
   "cell_type": "code",
   "execution_count": 17,
   "metadata": {},
   "outputs": [
    {
     "name": "stdin",
     "output_type": "stream",
     "text": [
      "Enter number 14\n"
     ]
    },
    {
     "name": "stdout",
     "output_type": "stream",
     "text": [
      "The square and cube of the number are \"196\" and \"2744\" respectively\n"
     ]
    }
   ],
   "source": [
    "def get_square_cube():\n",
    "    number = int(input('Enter number'))\n",
    "    print('The square and cube of the number are \"{}\" and \"{}\" respectively'.format(number**2, number**3))\n",
    "    \n",
    "get_square_cube()"
   ]
  },
  {
   "cell_type": "markdown",
   "metadata": {},
   "source": [
    "### Scope"
   ]
  },
  {
   "cell_type": "code",
   "execution_count": 12,
   "metadata": {},
   "outputs": [
    {
     "name": "stdout",
     "output_type": "stream",
     "text": [
      "The initial value of variable is 10\n",
      "Value of my_variable In my function 0 \n",
      "Value of my_variable outside my function 10 \n"
     ]
    }
   ],
   "source": [
    "#global_scope\n",
    "my_variable = 10\n",
    "\n",
    "print('The initial value of variable is {}'.format(my_variable))\n",
    "\n",
    "\n",
    "def my_first_function():\n",
    "    #local_scope\n",
    "    my_variable = 0\n",
    "    print('Value of my_variable In my function {} '.format(my_variable)) \n",
    "\n",
    "my_first_function() \n",
    "\n",
    "print('Value of my_variable outside my function {} '.format(my_variable)) "
   ]
  },
  {
   "cell_type": "code",
   "execution_count": 13,
   "metadata": {},
   "outputs": [
    {
     "name": "stdout",
     "output_type": "stream",
     "text": [
      "Value of my_variable In my function 0 \n"
     ]
    }
   ],
   "source": [
    "#Lets call the function\n",
    "my_first_function()"
   ]
  },
  {
   "cell_type": "code",
   "execution_count": 23,
   "metadata": {},
   "outputs": [
    {
     "name": "stdout",
     "output_type": "stream",
     "text": [
      "In the inner function 2\n",
      "In the outer function 1\n",
      "Outside the function -1\n"
     ]
    }
   ],
   "source": [
    "my_variable = -1\n",
    "def outer():\n",
    "    my_variable = 1\n",
    "    def inner():\n",
    "        my_variable = 2\n",
    "        print('In the inner function {}'.format(my_variable))\n",
    "    inner()\n",
    "    print('In the outer function {}'.format(my_variable))\n",
    "outer()\n",
    "print('Outside the function {}'.format(my_variable))"
   ]
  },
  {
   "cell_type": "code",
   "execution_count": 14,
   "metadata": {},
   "outputs": [
    {
     "name": "stdout",
     "output_type": "stream",
     "text": [
      "In the inner function 2\n",
      "In the out function 1\n",
      "Outside the function before declaration of my_variable 2\n",
      "Outside the function after declaration of my_variable -1\n"
     ]
    }
   ],
   "source": [
    "def out():\n",
    "    my_variable = 1\n",
    "    def inner():\n",
    "        global my_variable\n",
    "        my_variable = 2\n",
    "        print('In the inner function {}'.format(my_variable))\n",
    "    inner()\n",
    "    print('In the out function {}'.format(my_variable))\n",
    "    \n",
    "my_variable = -1\n",
    "out() #my_variable = 2\n",
    "print('Outside the function before declaration of my_variable {}'.format(my_variable))\n",
    "\n",
    "\n",
    "my_variable = -1\n",
    "print('Outside the function after declaration of my_variable {}'.format(my_variable))"
   ]
  },
  {
   "cell_type": "markdown",
   "metadata": {},
   "source": [
    "#### Input Parameters or Arguments"
   ]
  },
  {
   "cell_type": "code",
   "execution_count": 15,
   "metadata": {},
   "outputs": [
    {
     "name": "stdin",
     "output_type": "stream",
     "text": [
      "Enter the first number 49\n",
      "Enter the second number 7\n"
     ]
    },
    {
     "name": "stdout",
     "output_type": "stream",
     "text": [
      "7.0\n"
     ]
    }
   ],
   "source": [
    "user_defined_division()"
   ]
  },
  {
   "cell_type": "markdown",
   "metadata": {},
   "source": [
    "The problem with this function is that I need to everytime input two numbers. Can we simplify that?"
   ]
  },
  {
   "cell_type": "code",
   "execution_count": 16,
   "metadata": {},
   "outputs": [],
   "source": [
    "#defining function by passing argument\n",
    "def user_defined_division(number1, number2):\n",
    "\n",
    "    if number2 == 0 :\n",
    "         print('Division not possible')\n",
    "    else:\n",
    "        print(number1/number2)"
   ]
  },
  {
   "cell_type": "code",
   "execution_count": 19,
   "metadata": {},
   "outputs": [
    {
     "name": "stdout",
     "output_type": "stream",
     "text": [
      "2.0\n"
     ]
    }
   ],
   "source": [
    "#at the time of calling i now need to pass the two numbers\n",
    "user_defined_division(600, 300)"
   ]
  },
  {
   "cell_type": "markdown",
   "metadata": {},
   "source": [
    "Question : Write a function \"get_category\" which takes in age as argument and prints the category such as baby, teenage, adult, old aged for various ranges of age"
   ]
  },
  {
   "cell_type": "code",
   "execution_count": 32,
   "metadata": {},
   "outputs": [
    {
     "name": "stdout",
     "output_type": "stream",
     "text": [
      "adult\n"
     ]
    }
   ],
   "source": [
    "def get_category(age):\n",
    "    if age < 3:\n",
    "        print('baby')\n",
    "    elif age < 16:\n",
    "        print('teenage')\n",
    "    elif age < 67:\n",
    "        print('adult')\n",
    "    else:\n",
    "        print('old aged')\n",
    "get_category(45)"
   ]
  },
  {
   "cell_type": "code",
   "execution_count": 33,
   "metadata": {},
   "outputs": [],
   "source": [
    "#calling function by passing argument\n",
    "def user_defined_division(number1, number2):\n",
    "    #local scope\n",
    "    number1 = 10\n",
    "    if number2 == 0 :\n",
    "         print('Division not possible')\n",
    "    else:\n",
    "        print(number1/number2)"
   ]
  },
  {
   "cell_type": "code",
   "execution_count": 34,
   "metadata": {},
   "outputs": [
    {
     "name": "stdout",
     "output_type": "stream",
     "text": [
      "5.0\n"
     ]
    }
   ],
   "source": [
    "#over rides the value of your parameter by the local variable\n",
    "user_defined_division(0, 2)"
   ]
  },
  {
   "cell_type": "code",
   "execution_count": 35,
   "metadata": {},
   "outputs": [],
   "source": [
    "def is_noun(word):\n",
    "    #to check if a word is a noun its first letter should be in uppercase\n",
    "    \n",
    "    if word[0].isupper():\n",
    "        print('Yes it is a noun')\n",
    "    else:\n",
    "        print('It is not a noun')"
   ]
  },
  {
   "cell_type": "code",
   "execution_count": 37,
   "metadata": {},
   "outputs": [
    {
     "name": "stdout",
     "output_type": "stream",
     "text": [
      "It is not a noun\n"
     ]
    }
   ],
   "source": [
    "is_noun('bird')"
   ]
  },
  {
   "cell_type": "raw",
   "metadata": {},
   "source": [
    "Lets do an exercise in functions\n",
    "\n",
    "1. Can you write a function which takes in two words and prints the concatenation of strings.\n",
    "For example string1 = 'foo' and string2 ='bar' as arguments and it should print 'foobar' while calling the function\n",
    "\n",
    "2. Can you write a function which takes in two words and prints the concatenation of strings with space in between.\n",
    "For example string1 = 'foo' and string2 ='bar' as arguments and it should print 'foo bar' while calling the function\n",
    "\n",
    "3. Can you write a function which takes in two words and prints the difference of length of first string and second string\n",
    "For example string1 = 'foo' and string2 ='bar' as arguments and it should print 0 (both have 3 characters and difference is 0) while calling the function\n",
    "\n",
    "4. Can you write a function which takes in two numbers and operation as the third argument to be performed on the two numbers. Print the operation performed on two numbers. Please take care of zero division\n",
    "  For example number1 = 2, number2 = 100 operation = 'add' then output should be 102"
   ]
  },
  {
   "cell_type": "code",
   "execution_count": 22,
   "metadata": {},
   "outputs": [],
   "source": [
    "#solution for fourth question\n",
    "def calculate(num1, num2, opp):\n",
    "    if opp == 'add':\n",
    "        print('The sum is {}'.format(num1 + num2))\n",
    "    elif opp == 'sub':\n",
    "        print('The diff is {}'.format(num1 - num2))\n",
    "    elif opp == 'mul':\n",
    "        print('The product is {}'.format(num1 * num2))\n",
    "    elif opp == 'div':\n",
    "        if num2!=0:\n",
    "            print('The division is {}'.format(num1/num2))\n",
    "        else:\n",
    "            print('Division not possible')\n",
    "    else:\n",
    "        print('Invalid opp')"
   ]
  },
  {
   "cell_type": "code",
   "execution_count": 26,
   "metadata": {},
   "outputs": [
    {
     "name": "stdout",
     "output_type": "stream",
     "text": [
      "The diff is 20\n"
     ]
    }
   ],
   "source": [
    "calculate(30,10,'sub')"
   ]
  },
  {
   "cell_type": "code",
   "execution_count": 49,
   "metadata": {},
   "outputs": [],
   "source": [
    "#solution for the 3rd question\n",
    "def word_char_diff(word1, word2):\n",
    "    print(len(word1) - len(word2))\n",
    "    \n",
    "word_char_diff('flower', 'bar')"
   ]
  },
  {
   "cell_type": "markdown",
   "metadata": {},
   "source": [
    "##### Kind of arguments"
   ]
  },
  {
   "cell_type": "markdown",
   "metadata": {},
   "source": [
    "##### 1. Positional arguments"
   ]
  },
  {
   "cell_type": "code",
   "execution_count": 20,
   "metadata": {},
   "outputs": [],
   "source": [
    "#defining\n",
    "def pos_argum(a, b, c, d):\n",
    "    print(d, c, b, a)"
   ]
  },
  {
   "cell_type": "code",
   "execution_count": 21,
   "metadata": {},
   "outputs": [
    {
     "name": "stdout",
     "output_type": "stream",
     "text": [
      "4 3 2 1\n"
     ]
    }
   ],
   "source": [
    "#calling\n",
    "pos_argum(1, 2, 3, 4)"
   ]
  },
  {
   "cell_type": "code",
   "execution_count": 22,
   "metadata": {},
   "outputs": [
    {
     "name": "stdout",
     "output_type": "stream",
     "text": [
      "1 2 3 4\n"
     ]
    }
   ],
   "source": [
    "pos_argum(4, 3, 2, 1)"
   ]
  },
  {
   "cell_type": "markdown",
   "metadata": {},
   "source": [
    "##### 2. Keyword argument"
   ]
  },
  {
   "cell_type": "code",
   "execution_count": 23,
   "metadata": {},
   "outputs": [],
   "source": [
    "def keyword_argum(a, b, c, d):\n",
    "    print(a, b, c, d)"
   ]
  },
  {
   "cell_type": "code",
   "execution_count": 24,
   "metadata": {},
   "outputs": [
    {
     "name": "stdout",
     "output_type": "stream",
     "text": [
      "1 2 4 3\n"
     ]
    }
   ],
   "source": [
    "#While Calling \n",
    "keyword_argum(b = 2, c = 4, d = 3, a = 1)"
   ]
  },
  {
   "cell_type": "code",
   "execution_count": 44,
   "metadata": {},
   "outputs": [
    {
     "name": "stdout",
     "output_type": "stream",
     "text": [
      "2 1 Nothing 3\n"
     ]
    }
   ],
   "source": [
    "keyword_argum(d = 3, b = 1, a = 2, c = 'Nothing')"
   ]
  },
  {
   "cell_type": "markdown",
   "metadata": {},
   "source": [
    "##### 3. Mix of both"
   ]
  },
  {
   "cell_type": "code",
   "execution_count": 45,
   "metadata": {},
   "outputs": [],
   "source": [
    "def mix_pos_keyword_argum(a, b, c, d):\n",
    "    print(a, b, c, d)"
   ]
  },
  {
   "cell_type": "code",
   "execution_count": 34,
   "metadata": {},
   "outputs": [
    {
     "name": "stdout",
     "output_type": "stream",
     "text": [
      "50 100 foo 0\n"
     ]
    }
   ],
   "source": [
    "mix_pos_keyword_argum(50, 100, d = 0, c = 'foo')"
   ]
  },
  {
   "cell_type": "code",
   "execution_count": 35,
   "metadata": {},
   "outputs": [
    {
     "ename": "SyntaxError",
     "evalue": "positional argument follows keyword argument (<ipython-input-35-b23cbe77a221>, line 2)",
     "output_type": "error",
     "traceback": [
      "\u001b[0;36m  File \u001b[0;32m\"<ipython-input-35-b23cbe77a221>\"\u001b[0;36m, line \u001b[0;32m2\u001b[0m\n\u001b[0;31m    mix_pos_keyword_argum(a = 50, d = 0, 34, c = 'foo')\u001b[0m\n\u001b[0m                                        ^\u001b[0m\n\u001b[0;31mSyntaxError\u001b[0m\u001b[0;31m:\u001b[0m positional argument follows keyword argument\n"
     ]
    }
   ],
   "source": [
    "# positional argument cannot be placed after any keyword argument\n",
    "mix_pos_keyword_argum(a = 50, d = 0, 34, c = 'foo')"
   ]
  },
  {
   "cell_type": "code",
   "execution_count": 36,
   "metadata": {},
   "outputs": [
    {
     "name": "stdout",
     "output_type": "stream",
     "text": [
      "50 34 foo 0\n"
     ]
    }
   ],
   "source": [
    "# positional argument cannot be placed after any keyword argument\n",
    "mix_pos_keyword_argum(50, d = 0, b = 34, c = 'foo')"
   ]
  },
  {
   "cell_type": "markdown",
   "metadata": {},
   "source": [
    "### Default Parameter Values"
   ]
  },
  {
   "cell_type": "code",
   "execution_count": 25,
   "metadata": {},
   "outputs": [],
   "source": [
    "#Definition Time\n",
    "def mix_pos_keyword_argum(a , b = 1, c = 3, d = 5):\n",
    "    print(a, b, c, d)"
   ]
  },
  {
   "cell_type": "code",
   "execution_count": 26,
   "metadata": {},
   "outputs": [
    {
     "name": "stdout",
     "output_type": "stream",
     "text": [
      "4 1 3 5\n"
     ]
    }
   ],
   "source": [
    "mix_pos_keyword_argum(4)"
   ]
  },
  {
   "cell_type": "code",
   "execution_count": 27,
   "metadata": {},
   "outputs": [
    {
     "name": "stdout",
     "output_type": "stream",
     "text": [
      "30 10 20 5\n"
     ]
    }
   ],
   "source": [
    "mix_pos_keyword_argum(b = 10, c = 20, a = 30)"
   ]
  },
  {
   "cell_type": "code",
   "execution_count": 73,
   "metadata": {},
   "outputs": [],
   "source": [
    "def mix_pos_keyword_argum(a , b = [1, 2, 3], c = (1, 2, 3), d = {1, 2, 3}):\n",
    "    print(a, b, c, d)"
   ]
  },
  {
   "cell_type": "code",
   "execution_count": 74,
   "metadata": {},
   "outputs": [
    {
     "name": "stdout",
     "output_type": "stream",
     "text": [
      "1 [1, 2, 3] (1, 2, 3) {1, 2, 3}\n"
     ]
    }
   ],
   "source": [
    "mix_pos_keyword_argum(1)"
   ]
  },
  {
   "cell_type": "markdown",
   "metadata": {},
   "source": [
    "Question :\n",
    "\n",
    "    Write a function which takes your first name, last name, age and qualification as arguments and prints out your full name with age and qualification. \n",
    "    But while you call this function your first and last name would be passed as positional arguments, your age as a keyword argument and qualification will be \n",
    "    having a default value of \"Bachelors\""
   ]
  },
  {
   "cell_type": "code",
   "execution_count": 46,
   "metadata": {},
   "outputs": [
    {
     "name": "stdout",
     "output_type": "stream",
     "text": [
      "Mohd Wajahat\n",
      "thirty four\n",
      "Masters\n"
     ]
    }
   ],
   "source": [
    "def function(name, lastname, age, qualification = \"Bachelors\"):\n",
    "    print(name + \" \" + lastname)\n",
    "    print(age)\n",
    "    print(qualification)\n",
    "    \n",
    "function('Mohd', 'Wajahat', age = 'thirty four', qualification = 'Masters')"
   ]
  },
  {
   "cell_type": "markdown",
   "metadata": {},
   "source": [
    "#### Return values"
   ]
  },
  {
   "cell_type": "code",
   "execution_count": 47,
   "metadata": {},
   "outputs": [],
   "source": [
    "#Let us write a function which takes in two numbers and adds them. \n",
    "#There is another function which takes the resultant and gives me the negative of that number\n",
    "\n",
    "def sum_of_two_numbers(a, b):\n",
    "    return a + b\n",
    "    \n",
    "def negative_of_the_number(x):\n",
    "    print(-(x))"
   ]
  },
  {
   "cell_type": "code",
   "execution_count": 48,
   "metadata": {},
   "outputs": [
    {
     "name": "stdout",
     "output_type": "stream",
     "text": [
      "The value of x is 9\n"
     ]
    }
   ],
   "source": [
    "x = sum_of_two_numbers(4, 5)\n",
    "print('The value of x is {}'.format(x))"
   ]
  },
  {
   "cell_type": "code",
   "execution_count": 49,
   "metadata": {},
   "outputs": [
    {
     "name": "stdout",
     "output_type": "stream",
     "text": [
      "-9\n",
      "The value of x is None\n"
     ]
    }
   ],
   "source": [
    "x = negative_of_the_number(9)\n",
    "print('The value of x is {}'.format(x))"
   ]
  },
  {
   "cell_type": "code",
   "execution_count": 37,
   "metadata": {},
   "outputs": [
    {
     "name": "stdout",
     "output_type": "stream",
     "text": [
      "1 [1, 2, 3] (1, 2, 3) {1, 2, 3}\n"
     ]
    }
   ],
   "source": [
    "result = mix_pos_keyword_argum(1)"
   ]
  },
  {
   "cell_type": "code",
   "execution_count": 38,
   "metadata": {},
   "outputs": [
    {
     "name": "stdout",
     "output_type": "stream",
     "text": [
      "None\n"
     ]
    }
   ],
   "source": [
    "print(result)"
   ]
  },
  {
   "cell_type": "raw",
   "metadata": {},
   "source": [
    "The reason is that the function is just printing and not returning anything to the caller and hence its none but yet gets printed"
   ]
  },
  {
   "cell_type": "code",
   "execution_count": 51,
   "metadata": {},
   "outputs": [],
   "source": [
    "#modifying with the return keyword\n",
    "def mix_pos_keyword_argum(a , b = [1, 2, 3], c = (1, 2, 3), d = {1, 2, 3}):\n",
    "    return a, b, c, d"
   ]
  },
  {
   "cell_type": "code",
   "execution_count": 52,
   "metadata": {},
   "outputs": [
    {
     "data": {
      "text/plain": [
       "(1, [1, 2, 3], (1, 2, 3), {1, 2, 3})"
      ]
     },
     "execution_count": 52,
     "metadata": {},
     "output_type": "execute_result"
    }
   ],
   "source": [
    "mix_pos_keyword_argum(1)"
   ]
  },
  {
   "cell_type": "code",
   "execution_count": 53,
   "metadata": {},
   "outputs": [
    {
     "data": {
      "text/plain": [
       "(1, [1, 2, 3], (1, 2, 3), {1, 2, 3})"
      ]
     },
     "execution_count": 53,
     "metadata": {},
     "output_type": "execute_result"
    }
   ],
   "source": [
    "result = mix_pos_keyword_argum(1)\n",
    "result"
   ]
  },
  {
   "cell_type": "raw",
   "metadata": {},
   "source": [
    "Write function that takes in 4 list of strings and returns 4 list of length of maximum string\n",
    "\n",
    "Example : list1 = ['book', 'man', 'woman']\n",
    "          list2 = ['character', 'python', 'location', 'green']\n",
    "          list3 = ['python', 'mumbai', 'melbourne']\n",
    "          list4 = ['parliament', 'sport', 'ecommerce']\n",
    "          \n",
    "func1(list1, list2, list3, list4) ->  [5, 9, 9, 10]\n",
    "\n",
    "Once you get the list call another function which normalizes the list.\n",
    "\n",
    "Example : list1 = [5, 9, 9, 10]\n",
    "\n",
    "func2(list1) -> [5/33, 9/33, 9/33, 10/3]"
   ]
  },
  {
   "cell_type": "code",
   "execution_count": 56,
   "metadata": {},
   "outputs": [],
   "source": [
    "list1 = ['book', 'man', 'woman']\n",
    "list2 = ['character', 'python', 'location', 'green']\n",
    "list3 = ['python', 'mumbai', 'melbourne']\n",
    "list4 = ['parliament', 'sport', 'ecommerce']"
   ]
  },
  {
   "cell_type": "code",
   "execution_count": null,
   "metadata": {},
   "outputs": [],
   "source": [
    "1. Write a function which takes in a value 5(arbitrary) and prints you the output like this\n",
    "\n",
    "*\n",
    "**\n",
    "***\n",
    "****\n",
    "*****\n",
    "    \n",
    "2. Write a function which takes in a value 5(arbitrary) and prints you the output like this\n",
    "\n",
    "    *\n",
    "   * *\n",
    "  *   *\n",
    " *     *\n",
    "* * * * *\n",
    "    \n",
    "3. Write a function which takes in a value 5(arbitrary) and prints you the output like this\n",
    "\n",
    "    *\n",
    "   ***\n",
    "  *****\n",
    " *******\n",
    "*********\n",
    "    \n",
    "4. Write a function which takes in a value 5(arbitrary) and prints you the output like this\n",
    "\n",
    "* * * * *\n",
    "*       *\n",
    "*       *\n",
    "*       *\n",
    "* * * * *\n"
   ]
  },
  {
   "cell_type": "markdown",
   "metadata": {},
   "source": [
    "Exercise :\n",
    "\n",
    "Write a function which can return the even number of letters of the text which is given as an argument. Write a second functions which takes in the return value of the first function and converts the letters to uppercase and gives the count of letters in return \n",
    "\n",
    "For example : \n",
    "\n",
    "Text : 'I am learning python at simplilearn'\n",
    "\n",
    "First function will take this text as argument and return \n",
    "\n",
    "['I', 'm', 'e', 'r', 'i', 'g', ........]\n",
    "\n",
    "\n",
    "The second function will take this list as argument and return\n",
    "\n",
    "['I' : 2 , 'M' : 1, 'E' : 1, 'R' : 1 , 'G' : 1.......]"
   ]
  },
  {
   "cell_type": "code",
   "execution_count": 5,
   "metadata": {},
   "outputs": [],
   "source": [
    "#Hint1 \n",
    "\n",
    "text = 'I am learning python at simplilearn'\n",
    "\n",
    "my_list = list(text.upper().replace(' ','')[::2])"
   ]
  },
  {
   "cell_type": "code",
   "execution_count": 6,
   "metadata": {},
   "outputs": [
    {
     "data": {
      "text/plain": [
       "Counter({'I': 4,\n",
       "         'M': 1,\n",
       "         'E': 2,\n",
       "         'R': 2,\n",
       "         'G': 1,\n",
       "         'Y': 1,\n",
       "         'H': 1,\n",
       "         'N': 1,\n",
       "         'T': 1,\n",
       "         'P': 1})"
      ]
     },
     "execution_count": 6,
     "metadata": {},
     "output_type": "execute_result"
    }
   ],
   "source": [
    "from collections import Counter\n",
    "\n",
    "Counter(my_list)"
   ]
  },
  {
   "cell_type": "code",
   "execution_count": null,
   "metadata": {},
   "outputs": [],
   "source": []
  }
 ],
 "metadata": {
  "kernelspec": {
   "display_name": "Python 3",
   "language": "python",
   "name": "python3"
  },
  "language_info": {
   "codemirror_mode": {
    "name": "ipython",
    "version": 3
   },
   "file_extension": ".py",
   "mimetype": "text/x-python",
   "name": "python",
   "nbconvert_exporter": "python",
   "pygments_lexer": "ipython3",
   "version": "3.7.6"
  }
 },
 "nbformat": 4,
 "nbformat_minor": 4
}
