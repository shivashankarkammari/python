{
 "cells": [
  {
   "cell_type": "markdown",
   "metadata": {},
   "source": [
    "1. Lines and Indentation"
   ]
  },
  {
   "cell_type": "code",
   "execution_count": 2,
   "metadata": {},
   "outputs": [],
   "source": [
    "my_list = [1, 2, 3]\n",
    "\n",
    "#I have declared a list above"
   ]
  },
  {
   "cell_type": "markdown",
   "metadata": {},
   "source": [
    "Here there is a physical line and the comment starting with a (#). Anything followed by # would be ignored by python"
   ]
  },
  {
   "cell_type": "code",
   "execution_count": 2,
   "metadata": {},
   "outputs": [
    {
     "data": {
      "text/plain": [
       "[1, 2, 3, 4, 5, 6]"
      ]
     },
     "execution_count": 2,
     "metadata": {},
     "output_type": "execute_result"
    }
   ],
   "source": [
    "my_list = [1, 2, 3, 4, \n",
    "            5, 6]\n",
    "my_list"
   ]
  },
  {
   "cell_type": "markdown",
   "metadata": {},
   "source": [
    "In many programming languages you might have seen that a block of a program starts with a syntax or a character such as\n",
    "in C you use \"(\" and it shoud end with \")\" whereas in python this is not the case. It uses indentation"
   ]
  },
  {
   "cell_type": "code",
   "execution_count": 3,
   "metadata": {},
   "outputs": [
    {
     "name": "stdout",
     "output_type": "stream",
     "text": [
      "Lets do programming\n",
      "Checking if the number is even or not\n",
      "It is even\n"
     ]
    }
   ],
   "source": [
    "def iseven(number):\n",
    "    print('Checking if the number is even or not')\n",
    "    if number %2 == 0:\n",
    "        print('It is even')\n",
    "    else:\n",
    "        print('It is odd')\n",
    "        \n",
    "print('Lets do programming')\n",
    "iseven(2)"
   ]
  },
  {
   "cell_type": "markdown",
   "metadata": {},
   "source": [
    "2. Identifiers"
   ]
  },
  {
   "cell_type": "markdown",
   "metadata": {},
   "source": [
    "Identifiers are names to specify a variable, a function, a class or an object. They have certain rules\n",
    "\n",
    "1. Start with a letter or an underscore\n",
    "\n",
    "2. It should be followed by zero or more letters, underscores, digits\n",
    "\n",
    "For example \n",
    "\n"
   ]
  },
  {
   "cell_type": "code",
   "execution_count": 4,
   "metadata": {},
   "outputs": [],
   "source": [
    "a  =  3\n",
    "\n",
    "#This is correct because it follows the above two conditions"
   ]
  },
  {
   "cell_type": "code",
   "execution_count": 5,
   "metadata": {},
   "outputs": [
    {
     "ename": "SyntaxError",
     "evalue": "invalid syntax (<ipython-input-5-f45e8d900cc0>, line 1)",
     "output_type": "error",
     "traceback": [
      "\u001b[0;36m  File \u001b[0;32m\"<ipython-input-5-f45e8d900cc0>\"\u001b[0;36m, line \u001b[0;32m1\u001b[0m\n\u001b[0;31m    3a = 3\u001b[0m\n\u001b[0m     ^\u001b[0m\n\u001b[0;31mSyntaxError\u001b[0m\u001b[0;31m:\u001b[0m invalid syntax\n"
     ]
    }
   ],
   "source": [
    "3a = 3"
   ]
  },
  {
   "cell_type": "code",
   "execution_count": 6,
   "metadata": {},
   "outputs": [],
   "source": [
    "a3 = 3"
   ]
  },
  {
   "cell_type": "markdown",
   "metadata": {},
   "source": [
    "3. Keywords"
   ]
  },
  {
   "cell_type": "markdown",
   "metadata": {},
   "source": [
    "It has 35 keywords. class, continue, def, if, elif, except, for, from, import, in, is, lambda ........."
   ]
  },
  {
   "cell_type": "markdown",
   "metadata": {},
   "source": [
    "4. Operators"
   ]
  },
  {
   "cell_type": "markdown",
   "metadata": {},
   "source": [
    "These are the list of operators : +, - *, /, %, **, <<, >>, <, <=, >=, >, "
   ]
  },
  {
   "cell_type": "markdown",
   "metadata": {},
   "source": [
    "Exercise :\n",
    "    \n",
    "    1. Create three variables with first variable having your name, second variable having your fathers name and third variable your mothers name\n",
    "    \n",
    "    2. Who has the longest name, and what is the length\n",
    "    \n",
    "    3. Who has the longest name but only with unique characters and what is the length"
   ]
  },
  {
   "cell_type": "code",
   "execution_count": 15,
   "metadata": {},
   "outputs": [],
   "source": [
    "first_var = 'Mohammad Wajahat'\n",
    "second_var = 'XYZ'\n",
    "third_var = 'LMNOP'"
   ]
  },
  {
   "cell_type": "code",
   "execution_count": 16,
   "metadata": {},
   "outputs": [
    {
     "name": "stdout",
     "output_type": "stream",
     "text": [
      "16\n"
     ]
    }
   ],
   "source": [
    "#On observation first variable has longest name.\n",
    "\n",
    "print(len(first_var))"
   ]
  },
  {
   "cell_type": "code",
   "execution_count": 21,
   "metadata": {},
   "outputs": [
    {
     "data": {
      "text/plain": [
       "{' ', 'M', 'W', 'a', 'd', 'h', 'j', 'm', 'o', 't'}"
      ]
     },
     "execution_count": 21,
     "metadata": {},
     "output_type": "execute_result"
    }
   ],
   "source": [
    "set(list(first_var))"
   ]
  },
  {
   "cell_type": "code",
   "execution_count": null,
   "metadata": {},
   "outputs": [],
   "source": [
    "Exercise :\n",
    "    \n",
    "    Assume you are building an application where you store attributes of passport such as Name, DOB, POB etc. \n",
    "    Which of the data types(List, Set or Tuples) you will use for the following\n",
    "    \n",
    "    1. Name\n",
    "    2. Date of Birth\n",
    "    3. Nationality\n",
    "    4. Visa No\n",
    "    5. Address"
   ]
  }
 ],
 "metadata": {
  "kernelspec": {
   "display_name": "Python 3",
   "language": "python",
   "name": "python3"
  },
  "language_info": {
   "codemirror_mode": {
    "name": "ipython",
    "version": 3
   },
   "file_extension": ".py",
   "mimetype": "text/x-python",
   "name": "python",
   "nbconvert_exporter": "python",
   "pygments_lexer": "ipython3",
   "version": "3.7.6"
  }
 },
 "nbformat": 4,
 "nbformat_minor": 4
}
