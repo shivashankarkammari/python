{
  "nbformat": 4,
  "nbformat_minor": 0,
  "metadata": {
    "colab": {
      "provenance": [],
      "authorship_tag": "ABX9TyMkZ8DoEjJWI39857anGrG1",
      "include_colab_link": true
    },
    "kernelspec": {
      "name": "python3",
      "display_name": "Python 3"
    },
    "language_info": {
      "name": "python"
    }
  },
  "cells": [
    {
      "cell_type": "markdown",
      "metadata": {
        "id": "view-in-github",
        "colab_type": "text"
      },
      "source": [
        "<a href=\"https://colab.research.google.com/github/shivashankarkammari/python/blob/main/Day_3.ipynb\" target=\"_parent\"><img src=\"https://colab.research.google.com/assets/colab-badge.svg\" alt=\"Open In Colab\"/></a>"
      ]
    },
    {
      "cell_type": "code",
      "execution_count": null,
      "metadata": {
        "colab": {
          "base_uri": "https://localhost:8080/"
        },
        "id": "hQR533mUvoJn",
        "outputId": "f6352581-5fdd-458b-d627-28c446754314"
      },
      "outputs": [
        {
          "output_type": "stream",
          "name": "stdout",
          "text": [
            "[('Ravi', 4), ('Sanjeev', 7), ('John', 4)]\n"
          ]
        }
      ],
      "source": [
        "\n",
        "#Write a function which takes in multiple names as a list. The function should return the\n",
        "#pair of names in Capital and the length of the name. For example\n",
        "#Input : [‘Ravi’, ‘Sanjeev’, ‘John’]\n",
        "#Output : [(‘RAVI’, 4), (‘SANJEEV’, 7), (‘JOHN’, 4)]\n",
        "\n",
        "\n",
        "def name_len(lis):\n",
        "    Res=[]\n",
        "    for name in lis:\n",
        "        Res.append((name,len(name)))\n",
        "    return Res\n",
        "\n",
        "\n",
        "names=['Ravi','Sanjeev', 'John']\n",
        "print(name_len(names))"
      ]
    },
    {
      "cell_type": "code",
      "source": [
        "#Write a function to get only the numbers in a sentence like ‘In 1984 there were 13\n",
        "#instances of a protest with over 1000 people attending’\n",
        "\n",
        "def get_num(strg):\n",
        "    Res=[]\n",
        "    for i in strg.split(\" \"):\n",
        "        if i.isdigit():\n",
        "            Res.append(i)\n",
        "    return Res\n",
        "Strg=\"In 1984 there were 13 instances of a protest with over 1000 people attending\"\n",
        "print(get_num(Strg))"
      ],
      "metadata": {
        "colab": {
          "base_uri": "https://localhost:8080/"
        },
        "id": "qFpOqMYyy7es",
        "outputId": "6bd72cc0-b769-45ef-ccd2-76e1c87a38d9"
      },
      "execution_count": null,
      "outputs": [
        {
          "output_type": "stream",
          "name": "stdout",
          "text": [
            "['1984', '13', '1000']\n"
          ]
        }
      ]
    }
  ]
}