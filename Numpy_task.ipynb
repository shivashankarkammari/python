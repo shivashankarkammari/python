{
  "nbformat": 4,
  "nbformat_minor": 0,
  "metadata": {
    "colab": {
      "provenance": [],
      "authorship_tag": "ABX9TyMQVnVaL2GFozkDShkGYBWw",
      "include_colab_link": true
    },
    "kernelspec": {
      "name": "python3",
      "display_name": "Python 3"
    },
    "language_info": {
      "name": "python"
    }
  },
  "cells": [
    {
      "cell_type": "markdown",
      "metadata": {
        "id": "view-in-github",
        "colab_type": "text"
      },
      "source": [
        "<a href=\"https://colab.research.google.com/github/shivashankarkammari/python/blob/main/Numpy_task.ipynb\" target=\"_parent\"><img src=\"https://colab.research.google.com/assets/colab-badge.svg\" alt=\"Open In Colab\"/></a>"
      ]
    },
    {
      "cell_type": "code",
      "execution_count": 2,
      "metadata": {
        "id": "8Z8iIv8Rysgv"
      },
      "outputs": [],
      "source": [
        "import numpy as np"
      ]
    },
    {
      "cell_type": "code",
      "source": [
        "# Create a null vector of size 10 but the fifth value which is 1\n",
        "\n",
        "vec = np.zeros(10)\n",
        "vec[5] = 1\n",
        "vec\n"
      ],
      "metadata": {
        "colab": {
          "base_uri": "https://localhost:8080/"
        },
        "id": "nyQMBHz5y6FO",
        "outputId": "78191d3c-a3c8-41d1-8798-da0a3b077fff"
      },
      "execution_count": 5,
      "outputs": [
        {
          "output_type": "execute_result",
          "data": {
            "text/plain": [
              "array([0., 0., 0., 0., 0., 1., 0., 0., 0., 0.])"
            ]
          },
          "metadata": {},
          "execution_count": 5
        }
      ]
    },
    {
      "cell_type": "code",
      "source": [
        "# Create a vector with values ranging from 10 to 49\n",
        "\n",
        "val = np.arange(10,50)\n",
        "val"
      ],
      "metadata": {
        "colab": {
          "base_uri": "https://localhost:8080/"
        },
        "id": "rLHZOXudy022",
        "outputId": "1802cde8-4509-48fb-b60f-1536d0b15b8a"
      },
      "execution_count": 6,
      "outputs": [
        {
          "output_type": "execute_result",
          "data": {
            "text/plain": [
              "array([10, 11, 12, 13, 14, 15, 16, 17, 18, 19, 20, 21, 22, 23, 24, 25, 26,\n",
              "       27, 28, 29, 30, 31, 32, 33, 34, 35, 36, 37, 38, 39, 40, 41, 42, 43,\n",
              "       44, 45, 46, 47, 48, 49])"
            ]
          },
          "metadata": {},
          "execution_count": 6
        }
      ]
    },
    {
      "cell_type": "code",
      "source": [
        "# Reverse a vector\n",
        "rev_val = val[::-1]\n",
        "rev_val"
      ],
      "metadata": {
        "colab": {
          "base_uri": "https://localhost:8080/"
        },
        "id": "TeHviL-wzDwn",
        "outputId": "a08a5fdb-8ff2-4dcb-c479-c9bcac104268"
      },
      "execution_count": 10,
      "outputs": [
        {
          "output_type": "execute_result",
          "data": {
            "text/plain": [
              "array([49, 48, 47, 46, 45, 44, 43, 42, 41, 40, 39, 38, 37, 36, 35, 34, 33,\n",
              "       32, 31, 30, 29, 28, 27, 26, 25, 24, 23, 22, 21, 20, 19, 18, 17, 16,\n",
              "       15, 14, 13, 12, 11, 10])"
            ]
          },
          "metadata": {},
          "execution_count": 10
        }
      ]
    },
    {
      "cell_type": "code",
      "source": [
        "#  Create a 3x3 matrix with values ranging from 0 to 8\n",
        "\n",
        "mat = np.arange(0,9).reshape(3,3)\n",
        "mat"
      ],
      "metadata": {
        "colab": {
          "base_uri": "https://localhost:8080/"
        },
        "id": "mA_uQ7R1zeal",
        "outputId": "38c41075-f063-43ae-8670-05cf4a931dbc"
      },
      "execution_count": 11,
      "outputs": [
        {
          "output_type": "execute_result",
          "data": {
            "text/plain": [
              "array([[0, 1, 2],\n",
              "       [3, 4, 5],\n",
              "       [6, 7, 8]])"
            ]
          },
          "metadata": {},
          "execution_count": 11
        }
      ]
    },
    {
      "cell_type": "code",
      "source": [
        "#  Find indices of non-zero elements from [1,2,0,0,4,0]\n",
        "\n",
        "arr = np.array([1,2,0,0,4,0])\n",
        "ind = np.where(arr==0)\n",
        "ind"
      ],
      "metadata": {
        "colab": {
          "base_uri": "https://localhost:8080/"
        },
        "id": "lUAns-Sc0B3d",
        "outputId": "f379fe6e-e4c3-4a11-d7da-b6cd27d24376"
      },
      "execution_count": 36,
      "outputs": [
        {
          "output_type": "execute_result",
          "data": {
            "text/plain": [
              "(array([2, 3, 5]),)"
            ]
          },
          "metadata": {},
          "execution_count": 36
        }
      ]
    },
    {
      "cell_type": "code",
      "source": [
        "# Create a 3x3x3 array with random values\n",
        "np.random.seed(2112001)\n",
        "rand_arr = np.array(np.random.randint(1000,size=9)).reshape(3,3)\n",
        "rand_arr"
      ],
      "metadata": {
        "colab": {
          "base_uri": "https://localhost:8080/"
        },
        "id": "hTsGcIiN0aql",
        "outputId": "6dd0528d-2a77-4ec0-f9dd-64450c0d4bca"
      },
      "execution_count": 20,
      "outputs": [
        {
          "output_type": "execute_result",
          "data": {
            "text/plain": [
              "array([[871, 823, 504],\n",
              "       [830, 224, 182],\n",
              "       [257, 946,  17]])"
            ]
          },
          "metadata": {},
          "execution_count": 20
        }
      ]
    },
    {
      "cell_type": "code",
      "source": [
        "\n",
        "# Create a 10x10 array with random values and find the minimum and maximum values\n",
        "\n",
        "np.random.seed(2345678)\n",
        "mat1 = np.array(np.random.randint(10000,size=100)).reshape(10,10)\n",
        "print(mat1)\n",
        "np.max(mat1)"
      ],
      "metadata": {
        "colab": {
          "base_uri": "https://localhost:8080/"
        },
        "id": "evlZuxdY14xe",
        "outputId": "359804b4-6374-4169-d3e4-bc47290ce416"
      },
      "execution_count": 31,
      "outputs": [
        {
          "output_type": "stream",
          "name": "stdout",
          "text": [
            "[[1043 5329 6491 2778 4748 7704 3128 1060 1056 3723]\n",
            " [3952 1281 3248 7969 1913  333 2678 2315 6086 6074]\n",
            " [6475 8138 9189 6377 4735 2422 5484 2481 6022 6679]\n",
            " [1244  496  456 1934 1191 6650  218 5252  355 7598]\n",
            " [7105 9918 1463 6839 2120 2044 6756 2268 1536 2749]\n",
            " [1333 8133 5274 1747 3573 4433  603 2569 3678 4066]\n",
            " [2169 7043 8516 9919  161 4584 2113 6051 8268 4516]\n",
            " [ 705 8643 5258 5916 1547 6903 8975 1757 9467 6751]\n",
            " [8363 6749 7872 8189 2953 8772 4170 2620 7836 8712]\n",
            " [5776   35 8939 7766 6819 6720 3108 3542 9370 9883]]\n"
          ]
        },
        {
          "output_type": "execute_result",
          "data": {
            "text/plain": [
              "9919"
            ]
          },
          "metadata": {},
          "execution_count": 31
        }
      ]
    },
    {
      "cell_type": "code",
      "source": [
        "# Create a 2d array with 1 on the border and 0 inside\n",
        "arrt = np.ones(16).reshape(4,4)\n",
        "arrt[1:3,1:3]=0\n",
        "arrt\n"
      ],
      "metadata": {
        "colab": {
          "base_uri": "https://localhost:8080/"
        },
        "id": "SYbRXfSa2Vi1",
        "outputId": "1494b6b5-b954-4387-8fad-3d6bac76b382"
      },
      "execution_count": 29,
      "outputs": [
        {
          "output_type": "execute_result",
          "data": {
            "text/plain": [
              "array([[1., 1., 1., 1.],\n",
              "       [1., 0., 0., 1.],\n",
              "       [1., 0., 0., 1.],\n",
              "       [1., 1., 1., 1.]])"
            ]
          },
          "metadata": {},
          "execution_count": 29
        }
      ]
    },
    {
      "cell_type": "code",
      "source": [],
      "metadata": {
        "id": "dsgRKJWo3ZrJ"
      },
      "execution_count": null,
      "outputs": []
    }
  ]
}