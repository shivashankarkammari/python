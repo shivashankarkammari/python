{
 "cells": [
  {
   "cell_type": "markdown",
   "metadata": {},
   "source": [
    "#### Conditional Programming"
   ]
  },
  {
   "cell_type": "code",
   "execution_count": 1,
   "metadata": {},
   "outputs": [
    {
     "data": {
      "text/plain": [
       "9"
      ]
     },
     "execution_count": 1,
     "metadata": {},
     "output_type": "execute_result"
    }
   ],
   "source": [
    "#Lets say I have this list\n",
    "my_list = [ 1, 'python', '2', '3', 4, 5.6, 'java', 'c++', 10]\n",
    "\n",
    "#I want to check if the size of this list = 9 or not\n",
    "\n",
    "len(my_list)"
   ]
  },
  {
   "cell_type": "code",
   "execution_count": 4,
   "metadata": {},
   "outputs": [
    {
     "name": "stdout",
     "output_type": "stream",
     "text": [
      "Its not 9\n"
     ]
    }
   ],
   "source": [
    "#I want to check if the size of this list = 9 or not. \n",
    "#If it is 9 then append one more random number otherwise leave it as it is\n",
    "\n",
    "if len(my_list) == 9:\n",
    "    print('Yes it is actually 9')\n",
    "    my_list.append(-1)\n",
    "else:\n",
    "    print('Its not 9')\n",
    "    "
   ]
  },
  {
   "cell_type": "code",
   "execution_count": 3,
   "metadata": {},
   "outputs": [
    {
     "data": {
      "text/plain": [
       "[1, 'python', '2', '3', 4, 5.6, 'java', 'c++', 10, -1]"
      ]
     },
     "execution_count": 3,
     "metadata": {},
     "output_type": "execute_result"
    }
   ],
   "source": [
    "my_list"
   ]
  },
  {
   "cell_type": "code",
   "execution_count": 10,
   "metadata": {},
   "outputs": [
    {
     "name": "stdout",
     "output_type": "stream",
     "text": [
      "Its not 9\n"
     ]
    }
   ],
   "source": [
    "if len(my_list) == 9:\n",
    "    print('Yes it is actually 9')\n",
    "    my_list.append(-1)\n",
    "else:\n",
    "    print('Its not 9')"
   ]
  },
  {
   "cell_type": "markdown",
   "metadata": {},
   "source": [
    "Write a program which takes in a user input name and age of a person. If the name of the person ends with a vowel(a, e, i, o, u) then print his age and name as it is otherwise print his name and double of his age"
   ]
  },
  {
   "cell_type": "code",
   "execution_count": 6,
   "metadata": {},
   "outputs": [
    {
     "name": "stdin",
     "output_type": "stream",
     "text": [
      "Enter your name Marie\n",
      "Enter your age 32\n"
     ]
    },
    {
     "name": "stdout",
     "output_type": "stream",
     "text": [
      "Your name ends with vowel\n",
      "Name : Marie Age : 32\n"
     ]
    }
   ],
   "source": [
    "name = input('Enter your name')\n",
    "age = int(input('Enter your age'))\n",
    "\n",
    "if name[-1] in ['a', 'e', 'i', 'o', 'u']:\n",
    "    print('Your name ends with vowel')\n",
    "    print('Name : {} Age : {}'. format(name, age))\n",
    "    \n",
    "else:\n",
    "    print('Your name does not end with a vowel')\n",
    "    print('Name : {} Revised Age : {}'. format(name, age*2))\n",
    "\n"
   ]
  },
  {
   "cell_type": "markdown",
   "metadata": {},
   "source": [
    "Write a program which takes in a user input name and age of a person. If the name of the person ends with a vowel(a, e, i, o, u) and his name starts with a vowel then print his age and name as it is otherwise double his age"
   ]
  },
  {
   "cell_type": "code",
   "execution_count": 15,
   "metadata": {},
   "outputs": [
    {
     "name": "stdin",
     "output_type": "stream",
     "text": [
      "Enter your name amie\n",
      "Enter your age 22\n"
     ]
    },
    {
     "name": "stdout",
     "output_type": "stream",
     "text": [
      "Your name starts with a vowel\n",
      "Your name ends with vowel\n",
      "Name : amie Age : 22\n"
     ]
    }
   ],
   "source": [
    "name = input('Enter your name')\n",
    "age = int(input('Enter your age'))\n",
    "\n",
    "vowel = ['a', 'e', 'i', 'o', 'u']\n",
    "\n",
    "#if first letter is vowel\n",
    "if name[0] in vowel:\n",
    "    print('Your name starts with a vowel')\n",
    "    #if last letter is vowel\n",
    "    if name[-1] in vowel:\n",
    "        print('Your name ends with a vowel')\n",
    "        print('Name : {} Age : {}'. format(name, age))\n",
    "    else:\n",
    "        print('Your name does not end with a vowel')\n",
    "        print('Name : {} Revised Age : {}'. format(name, age*2))\n",
    "else:\n",
    "    print('Your name does not start with a vowel')\n",
    "    print('Name {} Revised Age : {}'. format(name, age*2))\n",
    "\n"
   ]
  },
  {
   "cell_type": "code",
   "execution_count": 7,
   "metadata": {},
   "outputs": [],
   "source": [
    "#Lets extend this to a full fledge application.\n",
    "#Assume we have to build a tax calculation application\n",
    "\n",
    "salaries = [20000, 35000, 15000, 45000, 68000, 9000, 79000, 115000, 190000]"
   ]
  },
  {
   "cell_type": "markdown",
   "metadata": {},
   "source": [
    "We know that different salaries fall in different tax bracket\n",
    "Tax brackets are\n",
    "1. salary < 40000 - Nil\n",
    "2. 40001 - 90000 - 5%\n",
    "3. 90001 - 150000 - 10%\n",
    "4. salary > 150001 - 15%\n",
    "\n",
    "For the above salaries can you tell us the salary in hand you will get after tax deduction"
   ]
  },
  {
   "cell_type": "code",
   "execution_count": 10,
   "metadata": {},
   "outputs": [
    {
     "name": "stdout",
     "output_type": "stream",
     "text": [
      "45000 falls into 5% tax_bracket\n"
     ]
    }
   ],
   "source": [
    "#Lets derive a list to find out which tax bracket these salaries fall into\n",
    "salary = salaries[3]\n",
    "\n",
    "if salary < 40000:\n",
    "    tax_bracket = 0\n",
    "elif 40000 < salary < 90000:\n",
    "    tax_bracket = 5\n",
    "elif 90000 < salary < 150000 :\n",
    "    tax_bracket = 10\n",
    "elif 150000 < salary: \n",
    "    tax_bracket = 15\n",
    "else:\n",
    "    print('Invalid salary')\n",
    "    \n",
    "print('{} falls into {}% tax_bracket'.format(salary, tax_bracket))"
   ]
  },
  {
   "cell_type": "markdown",
   "metadata": {},
   "source": [
    "#### Iterations"
   ]
  },
  {
   "cell_type": "code",
   "execution_count": 13,
   "metadata": {},
   "outputs": [
    {
     "data": {
      "text/plain": [
       "[1, 2, 3]"
      ]
     },
     "execution_count": 13,
     "metadata": {},
     "output_type": "execute_result"
    }
   ],
   "source": [
    "my_list = [1, 2, 3]\n",
    "my_list"
   ]
  },
  {
   "cell_type": "code",
   "execution_count": 16,
   "metadata": {},
   "outputs": [
    {
     "data": {
      "text/plain": [
       "[2, 4, 6]"
      ]
     },
     "execution_count": 16,
     "metadata": {},
     "output_type": "execute_result"
    }
   ],
   "source": [
    "#Read list in an iterative manner\n",
    "my_doubled_list = []\n",
    "for i in my_list:\n",
    "    my_doubled_list.append(i*2)\n",
    "my_doubled_list"
   ]
  },
  {
   "cell_type": "code",
   "execution_count": 17,
   "metadata": {},
   "outputs": [
    {
     "data": {
      "text/plain": [
       "[20000, 35000, 15000, 45000, 68000, 9000, 79000, 115000, 190000]"
      ]
     },
     "execution_count": 17,
     "metadata": {},
     "output_type": "execute_result"
    }
   ],
   "source": [
    "salaries"
   ]
  },
  {
   "cell_type": "code",
   "execution_count": 18,
   "metadata": {},
   "outputs": [
    {
     "data": {
      "text/plain": [
       "[0, 0, 0, 5, 5, 0, 5, 10, 15]"
      ]
     },
     "execution_count": 18,
     "metadata": {},
     "output_type": "execute_result"
    }
   ],
   "source": [
    "#initializeing tax bracket list to store tax brackets for salaries\n",
    "my_tax_bracket_list = []\n",
    "\n",
    "#Running a loop over all salaries in the list of salaries\n",
    "for salary in salaries:\n",
    "    \n",
    "    #Checking which tax bracket salary falls into\n",
    "    if salary < 40000:\n",
    "        tax_bracket = 0\n",
    "    elif 40000 < salary < 90000:\n",
    "        tax_bracket = 5\n",
    "    elif 90000 < salary < 150000 :\n",
    "        tax_bracket = 10\n",
    "    elif 150000 < salary: \n",
    "        tax_bracket = 15\n",
    "    else:\n",
    "        print('Invalid salary')\n",
    "    # print('Tax Bracket : {}'.format(tax_bracket))\n",
    "    #Adding the tax bracket to the list\n",
    "    my_tax_bracket_list.append(tax_bracket)\n",
    "    \n",
    "    \n",
    "my_tax_bracket_list"
   ]
  },
  {
   "cell_type": "code",
   "execution_count": 19,
   "metadata": {},
   "outputs": [
    {
     "data": {
      "text/plain": [
       "[20000, 35000, 15000, 45000, 68000, 9000, 79000, 115000, 190000]"
      ]
     },
     "execution_count": 19,
     "metadata": {},
     "output_type": "execute_result"
    }
   ],
   "source": [
    "salaries"
   ]
  },
  {
   "cell_type": "code",
   "execution_count": 23,
   "metadata": {},
   "outputs": [
    {
     "data": {
      "text/plain": [
       "[(20000, 0),\n",
       " (35000, 0),\n",
       " (15000, 0),\n",
       " (45000, 5),\n",
       " (68000, 5),\n",
       " (9000, 0),\n",
       " (79000, 5),\n",
       " (115000, 10),\n",
       " (190000, 15)]"
      ]
     },
     "execution_count": 23,
     "metadata": {},
     "output_type": "execute_result"
    }
   ],
   "source": [
    "# I want a list of tuples such that the salaries and tax brackets are paired up in a tuple\n",
    "\n",
    "list(zip(salaries, my_tax_bracket_list))"
   ]
  },
  {
   "cell_type": "code",
   "execution_count": 29,
   "metadata": {},
   "outputs": [
    {
     "data": {
      "text/plain": [
       "[(1, 'one'), (2, 'two'), (3, 'three')]"
      ]
     },
     "execution_count": 29,
     "metadata": {},
     "output_type": "execute_result"
    }
   ],
   "source": [
    "list(zip([1, 2, 3], ['one', 'two', 'three']))"
   ]
  },
  {
   "cell_type": "raw",
   "metadata": {},
   "source": [
    "Question : Given two list of numbers and another list of operations, perform the operation on the list of numbers as per the operation\n",
    "\n",
    "list1 = [1, 4, -9, -5.2, 8.5, 10]\n",
    "list2 = [10, 5, -3, 2, 0.5, 1.3]\n",
    "list3 = ['+', '*', '-', '*', '/', '+']\n",
    "\n",
    "\n",
    "output_list = [1+10, 4*5, -9 - (-3), ....]\n",
    "output_list = [11, 20, -6, ...]"
   ]
  },
  {
   "cell_type": "code",
   "execution_count": 11,
   "metadata": {},
   "outputs": [
    {
     "data": {
      "text/plain": [
       "6"
      ]
     },
     "execution_count": 11,
     "metadata": {},
     "output_type": "execute_result"
    }
   ],
   "source": [
    "list1 = [1, 4, -9, -5.2, 8.5, 10]\n",
    "list2 = [10, 5, -3, 2, 0.5, 1.3]\n",
    "list3 = ['+', '*', '-', '*', '/', '+']\n",
    "\n",
    "len(list1)"
   ]
  },
  {
   "cell_type": "code",
   "execution_count": 10,
   "metadata": {},
   "outputs": [
    {
     "data": {
      "text/plain": [
       "[11, 20, -6, -10.4, 17.0, 11.3]"
      ]
     },
     "execution_count": 10,
     "metadata": {},
     "output_type": "execute_result"
    }
   ],
   "source": [
    "output_list = []\n",
    "for i in range(6):\n",
    "    if list3[i] == '+':\n",
    "        output_list.append(list1[i] + list2[i])\n",
    "    elif list3[i] == '-':\n",
    "        output_list.append(list1[i] - list2[i])\n",
    "    elif list3[i] == '*':\n",
    "        output_list.append(list1[i] * list2[i])\n",
    "    elif list3[i] == '/':\n",
    "        output_list.append(list1[i] / list2[i])\n",
    "output_list"
   ]
  },
  {
   "cell_type": "code",
   "execution_count": 34,
   "metadata": {},
   "outputs": [
    {
     "data": {
      "text/plain": [
       "[-10.4, 17.0]"
      ]
     },
     "execution_count": 34,
     "metadata": {},
     "output_type": "execute_result"
    }
   ],
   "source": [
    "#if I have to perform only for the 3rd and 4th index\n",
    "output_list = []\n",
    "for i in range(3,5):\n",
    "    if list3[i] == '+':\n",
    "        output_list.append(list1[i] + list2[i])\n",
    "    elif list3[i] == '-':\n",
    "        output_list.append(list1[i] - list2[i])\n",
    "    elif list3[i] == '*':\n",
    "        output_list.append(list1[i] * list2[i])\n",
    "    if list3[i] == '/':\n",
    "        output_list.append(list1[i] / list2[i])\n",
    "output_list"
   ]
  },
  {
   "cell_type": "markdown",
   "metadata": {},
   "source": [
    "Equalities or inequalities"
   ]
  },
  {
   "cell_type": "code",
   "execution_count": 31,
   "metadata": {},
   "outputs": [
    {
     "name": "stdout",
     "output_type": "stream",
     "text": [
      "The values are equal\n"
     ]
    }
   ],
   "source": [
    "# checking if the two values are equal\n",
    "if 9 == 9:\n",
    "    print('The values are equal')\n",
    "else:\n",
    "    print('They are not equal')"
   ]
  },
  {
   "cell_type": "code",
   "execution_count": 32,
   "metadata": {},
   "outputs": [
    {
     "name": "stdout",
     "output_type": "stream",
     "text": [
      "They are not equal\n"
     ]
    }
   ],
   "source": [
    "# checking if the two values are equal\n",
    "if 90 == 9:\n",
    "    print('The values are equal')\n",
    "else:\n",
    "    print('They are not equal')"
   ]
  },
  {
   "cell_type": "code",
   "execution_count": 33,
   "metadata": {},
   "outputs": [
    {
     "name": "stdout",
     "output_type": "stream",
     "text": [
      "The values are not equal\n"
     ]
    }
   ],
   "source": [
    "# checking if the two values are unequal\n",
    "if 10 != 9:\n",
    "    print('The values are not equal')\n",
    "else:\n",
    "    print('They are equal')"
   ]
  },
  {
   "cell_type": "code",
   "execution_count": 34,
   "metadata": {},
   "outputs": [
    {
     "name": "stdout",
     "output_type": "stream",
     "text": [
      "They are equal\n"
     ]
    }
   ],
   "source": [
    "# checking if the two values are unequal\n",
    "if 9 != 9:\n",
    "    print('The values are not equal')\n",
    "else:\n",
    "    print('They are equal')"
   ]
  },
  {
   "cell_type": "code",
   "execution_count": 35,
   "metadata": {},
   "outputs": [
    {
     "name": "stdout",
     "output_type": "stream",
     "text": [
      "First is greater than second\n"
     ]
    }
   ],
   "source": [
    "# checking if the one value is greater than the other\n",
    "if 10 > 9:\n",
    "    print('First is greater than second')\n",
    "else:\n",
    "    print('First is not greater than second')"
   ]
  },
  {
   "cell_type": "code",
   "execution_count": 36,
   "metadata": {},
   "outputs": [
    {
     "name": "stdout",
     "output_type": "stream",
     "text": [
      "First is not lesser than second\n"
     ]
    }
   ],
   "source": [
    "# checking if the one value is lesser than the other\n",
    "if 10 < 9:\n",
    "    print('First is lesser than second')\n",
    "else:\n",
    "    print('First is not lesser than second')"
   ]
  },
  {
   "cell_type": "code",
   "execution_count": 37,
   "metadata": {},
   "outputs": [
    {
     "name": "stdout",
     "output_type": "stream",
     "text": [
      "First is greater or equal to second\n"
     ]
    }
   ],
   "source": [
    "# checking if the one value is greater than or equal to the other\n",
    "if 10 >= 9:\n",
    "    print('First is greater or equal to second')\n",
    "else:\n",
    "    print('First is lesser than second')"
   ]
  },
  {
   "cell_type": "markdown",
   "metadata": {},
   "source": [
    "Lets say we have to build an application where we have to convert ratings into reviews.\n",
    "\n",
    "1. 0 - 1 -> Bad movie\n",
    "2. 1.1 - 3 -> Average movie\n",
    "3. 3.1 - 4.5 -> Great movie\n",
    "4. 4.6 - 5.0 -> Excellent movie"
   ]
  },
  {
   "cell_type": "code",
   "execution_count": 24,
   "metadata": {},
   "outputs": [
    {
     "name": "stdin",
     "output_type": "stream",
     "text": [
      "Enter the rating of the movie 3.2\n"
     ]
    },
    {
     "name": "stdout",
     "output_type": "stream",
     "text": [
      "The user has given a rating of 3.2 which corresponds to Great movie \n"
     ]
    }
   ],
   "source": [
    "#First step is to read a rating into our application. \n",
    "#We will take it from the user now\n",
    "\n",
    "rating = float(input('Enter the rating of the movie'))\n",
    "\n",
    "\n",
    "if 0 <= rating <= 1:\n",
    "    review = 'Bad movie'\n",
    "elif 1 < rating <= 3:\n",
    "    review = 'Average movie'\n",
    "elif 3 < rating <= 4.5:\n",
    "    review = 'Great movie'\n",
    "elif 4.5 < rating <= 5:\n",
    "    review = 'Excellent movie'\n",
    "    \n",
    "print('The user has given a rating of {} which corresponds to {} '.format(rating, review))"
   ]
  },
  {
   "cell_type": "markdown",
   "metadata": {},
   "source": [
    "##### Short syntax of if and else "
   ]
  },
  {
   "cell_type": "code",
   "execution_count": 28,
   "metadata": {},
   "outputs": [
    {
     "name": "stdin",
     "output_type": "stream",
     "text": [
      "Enter your marks 4\n"
     ]
    },
    {
     "name": "stdout",
     "output_type": "stream",
     "text": [
      "Result : fail\n"
     ]
    }
   ],
   "source": [
    "#pass or fail\n",
    "marks = int(input('Enter your marks'))\n",
    "\n",
    "if marks > 33:\n",
    "    result = 'pass'\n",
    "else:\n",
    "    result = 'fail'\n",
    "# result = 'pass' if marks > 33 else 'fail'\n",
    "print('Result : {}'.format(result))"
   ]
  },
  {
   "cell_type": "code",
   "execution_count": 28,
   "metadata": {},
   "outputs": [
    {
     "name": "stdin",
     "output_type": "stream",
     "text": [
      "Enter your marks 43\n"
     ]
    },
    {
     "name": "stdout",
     "output_type": "stream",
     "text": [
      "Result : pass\n"
     ]
    }
   ],
   "source": [
    "#pass or fail\n",
    "marks = int(input('Enter your marks'))\n",
    "\n",
    "result = 'pass' if marks > 33 else 'fail'\n",
    "\n",
    "print('Result : {}'.format(result))"
   ]
  },
  {
   "cell_type": "markdown",
   "metadata": {},
   "source": [
    "### Looping"
   ]
  },
  {
   "cell_type": "code",
   "execution_count": 29,
   "metadata": {},
   "outputs": [
    {
     "name": "stdout",
     "output_type": "stream",
     "text": [
      "0\n",
      "1\n",
      "2\n",
      "3\n",
      "4\n"
     ]
    }
   ],
   "source": [
    "#see how the for loop is iterating one by one\n",
    "for numbers in [0, 1, 2, 3, 4]:\n",
    "    print(numbers)"
   ]
  },
  {
   "cell_type": "code",
   "execution_count": 30,
   "metadata": {},
   "outputs": [
    {
     "name": "stdout",
     "output_type": "stream",
     "text": [
      "0\n",
      "1\n",
      "2\n",
      "3\n",
      "4\n"
     ]
    }
   ],
   "source": [
    "my_list = [0, 1, 2, 3, 4]\n",
    "for numbers in my_list:\n",
    "    print(numbers)"
   ]
  },
  {
   "cell_type": "code",
   "execution_count": 31,
   "metadata": {},
   "outputs": [
    {
     "name": "stdout",
     "output_type": "stream",
     "text": [
      "0\n",
      "1\n",
      "2\n",
      "3\n",
      "4\n"
     ]
    }
   ],
   "source": [
    "#operate on a range of numbers\n",
    "\n",
    "for number in range(5):\n",
    "    print(number)"
   ]
  },
  {
   "cell_type": "code",
   "execution_count": 32,
   "metadata": {},
   "outputs": [
    {
     "name": "stdout",
     "output_type": "stream",
     "text": [
      "0 python\n",
      "1 C\n",
      "2 Java\n",
      "3 Ruby\n",
      "4 SQL\n",
      "5 DotNet\n"
     ]
    }
   ],
   "source": [
    "#print element along with its index\n",
    "my_list = ['python', 'C', 'Java', 'Ruby', 'SQL', 'DotNet']\n",
    "for index in range(len(my_list)):\n",
    "    #index, value of list at that index\n",
    "    print(index, my_list[index])"
   ]
  },
  {
   "cell_type": "code",
   "execution_count": 56,
   "metadata": {},
   "outputs": [
    {
     "name": "stdout",
     "output_type": "stream",
     "text": [
      "0 python\n",
      "1 C\n",
      "2 Java\n",
      "3 Ruby\n",
      "4 SQL\n",
      "5 DotNet\n"
     ]
    }
   ],
   "source": [
    "my_list = ['python', 'C', 'Java', 'Ruby', 'SQL', 'DotNet']\n",
    "for index, language in enumerate(my_list):\n",
    "    print(index, language)"
   ]
  },
  {
   "cell_type": "code",
   "execution_count": 35,
   "metadata": {},
   "outputs": [
    {
     "data": {
      "text/plain": [
       "[11, 20, -6, -10.4, 17.0, 11.3]"
      ]
     },
     "execution_count": 35,
     "metadata": {},
     "output_type": "execute_result"
    }
   ],
   "source": [
    "list1 = [1, 4, -9, -5.2, 8.5, 10]\n",
    "list2 = [10, 5, -3, 2, 0.5, 1.3]\n",
    "list3 = ['+', '*', '-', '*', '/', '+']\n",
    "\n",
    "output_list = []\n",
    "for index, value in enumerate(list3):\n",
    "    if value == '+':\n",
    "        output_list.append(list1[index] + list2[index])\n",
    "    elif value == '-':\n",
    "        output_list.append(list1[index] - list2[index])\n",
    "    elif value == '*':\n",
    "        output_list.append(list1[index] * list2[index])\n",
    "    if value == '/':\n",
    "        output_list.append(list1[index] / list2[index])\n",
    "output_list"
   ]
  },
  {
   "cell_type": "markdown",
   "metadata": {},
   "source": [
    "### While loop"
   ]
  },
  {
   "cell_type": "code",
   "execution_count": 36,
   "metadata": {},
   "outputs": [
    {
     "name": "stdout",
     "output_type": "stream",
     "text": [
      "12 1024\n",
      "11 512\n",
      "10 256\n",
      "9 128\n",
      "8 64\n",
      "7 32\n",
      "6 16\n",
      "5 8\n",
      "4 4\n",
      "3 2\n",
      "2 1\n",
      "1 0\n"
     ]
    }
   ],
   "source": [
    "#While loop\n",
    "my_list = [0, 1, 2, 4, 8, 16, 32, 64, 128, 256, 512, 1024]\n",
    "length_of_list = len(my_list)\n",
    "\n",
    "#compare\n",
    "while length_of_list > 0: \n",
    "    #execute\n",
    "    print(length_of_list, my_list[length_of_list-1])\n",
    "    #update\n",
    "    length_of_list = length_of_list - 1 "
   ]
  },
  {
   "cell_type": "markdown",
   "metadata": {},
   "source": [
    "#### Break and continue statements"
   ]
  },
  {
   "cell_type": "code",
   "execution_count": 30,
   "metadata": {},
   "outputs": [
    {
     "name": "stdout",
     "output_type": "stream",
     "text": [
      "Items bread\n",
      "Items butter\n",
      "Items jam\n",
      "Found jam in the item list\n"
     ]
    }
   ],
   "source": [
    "#Assume we are designing a task to see if an item exists in a list or not ?\n",
    "my_list = ['bread', 'butter', 'jam', 'cheese', 'milk', 'curd']\n",
    "\n",
    "for item in my_list:\n",
    "    print('Items {}'.format(item))\n",
    "    if item == 'jam':\n",
    "        print('Found jam in the item list')\n",
    "        break\n",
    "        "
   ]
  },
  {
   "cell_type": "code",
   "execution_count": 34,
   "metadata": {},
   "outputs": [
    {
     "name": "stdout",
     "output_type": "stream",
     "text": [
      "Items bread\n",
      "Items butter\n",
      "Items jam\n",
      "Found jam in the item list\n",
      "Price of jam 15\n"
     ]
    }
   ],
   "source": [
    "my_list = ['bread', 'butter', 'jam', 'cheese', 'milk', 'curd']\n",
    "\n",
    "for item in my_list:\n",
    "    print('Items {}'.format(item))\n",
    "    if item == 'jam':\n",
    "        print('Found jam in the item list')\n",
    "        print('Price of jam {}'.format(15))\n",
    "        break\n",
    "    elif item != 'jam':\n",
    "        continue\n",
    "        \n",
    "        "
   ]
  },
  {
   "cell_type": "raw",
   "metadata": {},
   "source": [
    "Exercise :\n",
    "\n",
    "1. Create a list of 10 employees\n",
    "2. Create tuple of salaries of these 10 employees\n",
    "3. Create a tuple of rating of these 10 employees ( 0 - 10 )\n",
    "4. Generate a dictionary of employees and their new salaries based on their ratings \n",
    "    The update to salaries should be as \n",
    "    \n",
    "    a. For rating 0 - 3 no salaries should be updated\n",
    "    \n",
    "    b. For rating 3 - 5 a 3% increment to be given\n",
    "    \n",
    "    c. For rating 5 - 7 a 5% increment to be given\n",
    "    \n",
    "    d. For rating 7 - 9 a 7% increment to be given\n",
    "    \n",
    "    e. For rating 9 and above a 7% increment and a bonus of 10% of initial salary to be given"
   ]
  },
  {
   "cell_type": "markdown",
   "metadata": {},
   "source": [
    "The dictionary way"
   ]
  },
  {
   "cell_type": "code",
   "execution_count": 33,
   "metadata": {},
   "outputs": [],
   "source": [
    "employee = ['John', 'Mary', 'Krishna', 'Namesh', 'Aastha', 'Jason', 'Kavita', 'Ravi', 'Shruti', 'Shubham']\n",
    "salaries = (10000, 12000, 13000, 18500, 11000, 19800, 20000, 23500, 19450, 8000)\n",
    "ratings = (2.3, 4.7, 4.3, 9.9, 8.4, 6.1, 6.1, 4.0, 8.8, 9.3)"
   ]
  },
  {
   "cell_type": "code",
   "execution_count": 34,
   "metadata": {},
   "outputs": [],
   "source": [
    "my_dictionary = {}\n",
    "\n",
    "\n",
    "for i in range(len(ratings)):\n",
    "    bonus = 0\n",
    "    if 0 <= ratings[i] <= 3:\n",
    "        update = 0\n",
    "    elif 3 < ratings[i] <= 5:\n",
    "        update = 3\n",
    "    elif 5 < ratings[i] <= 7:\n",
    "        update = 5\n",
    "    elif 7 < ratings[i] <= 9:\n",
    "        update = 7\n",
    "    elif 9 < ratings[i] <= 10:\n",
    "        update = 7\n",
    "        bonus = 10\n",
    "        \n",
    "    my_dictionary[employee[i]] = salaries[i] + bonus + (salaries[i]*(update/100))"
   ]
  },
  {
   "cell_type": "code",
   "execution_count": 35,
   "metadata": {},
   "outputs": [
    {
     "data": {
      "text/plain": [
       "{'John': 10000.0,\n",
       " 'Mary': 12360.0,\n",
       " 'Krishna': 13390.0,\n",
       " 'Namesh': 19805.0,\n",
       " 'Aastha': 11770.0,\n",
       " 'Jason': 20790.0,\n",
       " 'Kavita': 21000.0,\n",
       " 'Ravi': 24205.0,\n",
       " 'Shruti': 20811.5,\n",
       " 'Shubham': 8570.0}"
      ]
     },
     "execution_count": 35,
     "metadata": {},
     "output_type": "execute_result"
    }
   ],
   "source": [
    "my_dictionary"
   ]
  },
  {
   "cell_type": "code",
   "execution_count": null,
   "metadata": {},
   "outputs": [],
   "source": []
  }
 ],
 "metadata": {
  "kernelspec": {
   "display_name": "Python 3",
   "language": "python",
   "name": "python3"
  },
  "language_info": {
   "codemirror_mode": {
    "name": "ipython",
    "version": 3
   },
   "file_extension": ".py",
   "mimetype": "text/x-python",
   "name": "python",
   "nbconvert_exporter": "python",
   "pygments_lexer": "ipython3",
   "version": "3.7.6"
  }
 },
 "nbformat": 4,
 "nbformat_minor": 4
}
